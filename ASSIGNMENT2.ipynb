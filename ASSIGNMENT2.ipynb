{
 "cells": [
  {
   "cell_type": "code",
   "execution_count": 5,
   "id": "84050e7c",
   "metadata": {},
   "outputs": [
    {
     "name": "stdout",
     "output_type": "stream",
     "text": [
      "This:program:replaces:all:occurrences:of:a:space::comma::or:dot:with:a:colon:\n"
     ]
    }
   ],
   "source": [
    "import re\n",
    "string = \"This program replaces all occurrences of a space, comma, or dot with a colon.\"\n",
    "x = re.sub(\"[ ,.]\",':',string)\n",
    "print(x)"
   ]
  },
  {
   "cell_type": "code",
   "execution_count": 6,
   "id": "b82de167",
   "metadata": {},
   "outputs": [
    {
     "name": "stdout",
     "output_type": "stream",
     "text": [
      "         SUMMARY\n",
      "0    hello world\n",
      "1           test\n",
      "2  four five six\n"
     ]
    }
   ],
   "source": [
    "#Create a dataframe using the dictionary below and remove everything (commas (,), !, XXXX, ;, etc.) from the columns except words\n",
    "import pandas as pd\n",
    "dict1 = {'SUMMARY' : ['hello, world!', 'XXXXX test', '123four, five:; six...']}\n",
    "df = pd.DataFrame(dict1)\n",
    "df['SUMMARY'] = df['SUMMARY'].str.replace('[,!XXXX:;,...0-9]','',regex= True)\n",
    "print(df)"
   ]
  },
  {
   "cell_type": "code",
   "execution_count": 7,
   "id": "d5c94877",
   "metadata": {},
   "outputs": [
    {
     "name": "stdout",
     "output_type": "stream",
     "text": [
      "['previous', 'role', 'Service', 'Desk', 'Analyst', 'Union', 'Bank', 'Nigeria', 'where', 'provided', 'support', 'over', '4000', 'users', 'honed', 'technical', 'skills', 'gained', 'valuable', 'experience', 'troubleshooting', 'resolving', 'hardware', 'software', 'issues']\n"
     ]
    }
   ],
   "source": [
    "#Create a function in python to find all words that are at least 4 characters long in a string. \n",
    "string_pattern = r\"\\w{4,}\"\n",
    "str1 = \"In my previous role as an IT Service Desk Analyst at Union Bank of Nigeria where I provided support to over 4000 users, I honed my technical skills and gained valuable experience in troubleshooting and resolving hardware and software issues. \"\n",
    "regex_pattern = re.compile(string_pattern)\n",
    "match = regex_pattern.findall(str1)\n",
    "print(match)"
   ]
  },
  {
   "cell_type": "code",
   "execution_count": 8,
   "id": "1e6f13ba",
   "metadata": {},
   "outputs": [
    {
     "name": "stdout",
     "output_type": "stream",
     "text": [
      "['role', 'Desk', 'Union', 'Bank', 'where', 'over', '4000', 'users', 'honed', 'and', 'and', 'and']\n"
     ]
    }
   ],
   "source": [
    "string_pattern = r\"\\b\\w{3,5}\\b\"\n",
    "str1 = \"In my previous role as an IT Service Desk Analyst at Union Bank of Nigeria where I provided support to over 4000 users, I honed my technical skills and gained valuable experience in troubleshooting and resolving hardware and software issues. \"\n",
    "regex_pattern = re.compile(string_pattern)\n",
    "match = regex_pattern.findall(str1)\n",
    "print(match)"
   ]
  },
  {
   "cell_type": "code",
   "execution_count": 9,
   "id": "351b2785",
   "metadata": {},
   "outputs": [
    {
     "data": {
      "text/plain": [
       "['example .com',\n",
       " 'hr@fliprobo .com',\n",
       " 'github .com',\n",
       " 'Hello Data Science World',\n",
       " 'Data Scientist']"
      ]
     },
     "execution_count": 9,
     "metadata": {},
     "output_type": "execute_result"
    }
   ],
   "source": [
    "#Create a function in Python to remove the parenthesis in a list of strings. \n",
    "def remove_brackets(strings):\n",
    "  match = re.compile(r\"[()]\")\n",
    "  new_strings = []\n",
    "  for string in strings:\n",
    "      new_string = re.sub(match, \"\", string)\n",
    "      new_strings.append(new_string)\n",
    "  return new_strings\n",
    "\n",
    "strings = [\"example (.com)\", \"hr@fliprobo (.com)\", \"github (.com)\", \"Hello (Data Science World)\", \"Data (Scientist)\"]\n",
    "remove_brackets(strings)"
   ]
  },
  {
   "cell_type": "code",
   "execution_count": 10,
   "id": "6902a9ed",
   "metadata": {},
   "outputs": [
    {
     "name": "stdout",
     "output_type": "stream",
     "text": [
      "example, hr@fliprobo, github, Hello, Data\n"
     ]
    }
   ],
   "source": [
    "#Write a python program to remove the parenthesis area from the text stored in the text file using Regular Expression.\n",
    "text = open('newfile.txt', \"w+\")\n",
    "text.write(\"example (.com), hr@fliprobo (.com), github (.com), Hello (Data Science World), Data (Scientist)\")\n",
    "\n",
    "with open('newfile.txt', 'r') as file:\n",
    "  textopen = file.read()\n",
    "textnew = re.sub(r\"\\s*\\([^)]*\\)\", \"\", textopen)\n",
    "\n",
    "print(textnew)\n"
   ]
  },
  {
   "cell_type": "code",
   "execution_count": 11,
   "id": "c19265c6",
   "metadata": {},
   "outputs": [
    {
     "name": "stdout",
     "output_type": "stream",
     "text": [
      "['Importance', 'Of', 'Regular', 'Expressions', 'In', 'Python']\n"
     ]
    }
   ],
   "source": [
    "#Write a regular expression in Python to split a string into uppercase letters\n",
    "string = 'ImportanceOfRegularExpressionsInPython'\n",
    "print(re.findall('[A-Z][^A-Z]*', string))"
   ]
  },
  {
   "cell_type": "code",
   "execution_count": 17,
   "id": "08acfef0",
   "metadata": {},
   "outputs": [
    {
     "name": "stdout",
     "output_type": "stream",
     "text": [
      "RegularExpression1 IsAn2 ImportantTopic3 InPython\n"
     ]
    }
   ],
   "source": [
    "#Create a function in python to insert spaces between words starting with numbers.\n",
    "def func_spaces(text):\n",
    "    pattern = re.compile(r'(\\d+)([A-Za-z]+)')\n",
    "    result = re.sub(pattern, r'\\1 \\2', text)\n",
    "    return result\n",
    "\n",
    "input_string = \"RegularExpression1IsAn2ImportantTopic3InPython\"\n",
    "output = func_spaces(input_string)\n",
    "print(output)"
   ]
  },
  {
   "cell_type": "code",
   "execution_count": 18,
   "id": "2f0e7a00",
   "metadata": {},
   "outputs": [
    {
     "name": "stdout",
     "output_type": "stream",
     "text": [
      "Regular Expression 1 Is An 2 Important Topic 3 In Python\n"
     ]
    }
   ],
   "source": [
    "#- Create a function in python to insert spaces between words starting with capital letters or with numbers.\n",
    "def func_spaces(text):\n",
    "    new_text = re.sub(r'([A-Z0-9])', r' \\1', text)\n",
    "    return new_text.strip() \n",
    "\n",
    "\n",
    "string = \"RegularExpression1IsAn2ImportantTopic3InPython\"\n",
    "result = func_spaces(string)\n",
    "print(result)"
   ]
  },
  {
   "cell_type": "code",
   "execution_count": 20,
   "id": "64d41100",
   "metadata": {},
   "outputs": [
    {
     "data": {
      "text/plain": [
       "0      Switze\n",
       "1      Icelan\n",
       "2      Denmar\n",
       "3      Norway\n",
       "4      Canada\n",
       "        ...  \n",
       "153    Rwanda\n",
       "154     Benin\n",
       "155     Syria\n",
       "156    Burund\n",
       "157      Togo\n",
       "Name: first_five_letters, Length: 158, dtype: object"
      ]
     },
     "execution_count": 20,
     "metadata": {},
     "output_type": "execute_result"
    }
   ],
   "source": [
    "#Use the github link below to read the data and create a dataframe. \n",
    "#After creating the dataframe extract the first 6 letters of each country and store in the dataframe under a new column called first_five_letters.\n",
    "import pandas as pd\n",
    "url = \"https://raw.githubusercontent.com/dsrscientist/DSData/master/happiness_score_dataset.csv\"\n",
    "df = pd.read_csv(url,delimiter=',')\n",
    "df\n",
    "df['first_five_letters'] = df['Country'].apply(lambda x: x[:6])\n",
    "df['first_five_letters']"
   ]
  },
  {
   "cell_type": "code",
   "execution_count": 2,
   "id": "ecefca7e",
   "metadata": {},
   "outputs": [
    {
     "name": "stdout",
     "output_type": "stream",
     "text": [
      "Match found!\n",
      "No match found!!\n"
     ]
    }
   ],
   "source": [
    "#Write a Python program to match a string that contains only upper and lowercase letters, numbers, and underscores.\n",
    "\n",
    "import re\n",
    "\n",
    "def string_match(input_string):\n",
    "  pattern = r'^[a-zA-Z0-9_]+$'\n",
    "  if re.match(pattern, input_string):\n",
    "      print(\"Match found!\")\n",
    "  else:\n",
    "      print(\"No match found!!\")\n",
    "\n",
    "string_match(\"PythonLanguageiscool\") \n",
    "string_match(\"Python programming language is stressful\")   \n"
   ]
  },
  {
   "cell_type": "code",
   "execution_count": 3,
   "id": "73148193",
   "metadata": {},
   "outputs": [
    {
     "name": "stdout",
     "output_type": "stream",
     "text": [
      "Enter a number: 90\n",
      "Enter a string starting with entered number: 889nijjk\n",
      "The string does not begin with the number entered\n"
     ]
    }
   ],
   "source": [
    "def check_start_num(string, number):\n",
    "  if string.startswith(str(number)):\n",
    "      return True\n",
    "  else:\n",
    "      return False\n",
    "\n",
    "\n",
    "number = int(input(\"Enter a number: \"))\n",
    "string = input(\"Enter a string starting with entered number: \")\n",
    "\n",
    "if check_start_num(string, number):\n",
    "  print(\"The string begins with the number entered\")\n",
    "else:\n",
    "  print(\"The string does not begin with the number entered\")"
   ]
  },
  {
   "cell_type": "code",
   "execution_count": 9,
   "id": "8e94ddf9",
   "metadata": {},
   "outputs": [
    {
     "name": "stdout",
     "output_type": "stream",
     "text": [
      "255.192.8.2\n"
     ]
    }
   ],
   "source": [
    "#Write a Python program to remove leading zeros from an IP address\n",
    "import re\n",
    "ip_add = \"255.192.08.2\"\n",
    "output = re.sub('\\.[0]*', '.', ip_add)\n",
    "print(output)"
   ]
  },
  {
   "cell_type": "code",
   "execution_count": 11,
   "id": "3b4975e0",
   "metadata": {},
   "outputs": [
    {
     "name": "stdout",
     "output_type": "stream",
     "text": [
      "August 15th 1947\n"
     ]
    }
   ],
   "source": [
    "#Write a regular expression in python to match a date string in the form of Month name followed by day number and year stored in a text file.\n",
    "text = open('textfile.txt', \"w+\")\n",
    "text.write(\"On August 15th 1947 that India was declared independent from British colonialism, and the reins of control were handed over to the leaders of the Country.\")\n",
    "\n",
    "with open('textfile.txt', 'r') as file:\n",
    "  textfile_open = file.read()\n",
    "pattern = r\"\\b([A-Z][a-z]+ \\d{1,2}(?:st|nd|rd|th)? \\d{4})\\b\"\n",
    "\n",
    "match = re.findall(pattern, textfile_open)\n",
    "date_match = match[0] if match else None\n",
    "\n",
    "print(date_match)"
   ]
  },
  {
   "cell_type": "code",
   "execution_count": 12,
   "id": "7d2f1b49",
   "metadata": {},
   "outputs": [
    {
     "name": "stdout",
     "output_type": "stream",
     "text": [
      "['fox', 'dog']\n"
     ]
    }
   ],
   "source": [
    "#Write a Python program to search some literals strings in a string\n",
    "string = \"The quick brown fox jumps over the lazy dog\"\n",
    "pattern = \"fox|dog|Horse\"\n",
    "result = re.findall(pattern,string)\n",
    "print(result)"
   ]
  },
  {
   "cell_type": "code",
   "execution_count": 13,
   "id": "fb3d2620",
   "metadata": {},
   "outputs": [
    {
     "name": "stdout",
     "output_type": "stream",
     "text": [
      "fox\n",
      "(16, 19)\n",
      "16\n",
      "19\n"
     ]
    }
   ],
   "source": [
    "#Write a Python program to search a literals string in a string and also find the location within the original string where the pattern occurs\n",
    "string = \"The quick brown fox jumps over the lazy dog\"\n",
    "pattern = \"fox\"\n",
    "result = re.search(pattern,string)\n",
    "print(result.group())\n",
    "print(result.span())\n",
    "print(result.start())\n",
    "print(result.end())"
   ]
  },
  {
   "cell_type": "code",
   "execution_count": 14,
   "id": "7eead1d5",
   "metadata": {},
   "outputs": [
    {
     "name": "stdout",
     "output_type": "stream",
     "text": [
      "Found \"exercises\"\n",
      "Found \"exercises\"\n",
      "Found \"exercises\"\n"
     ]
    }
   ],
   "source": [
    "#Write a Python program to find the substrings within a string.\n",
    "import re\n",
    "string = 'Python exercises, PHP exercises, C# exercises'\n",
    "pattern = 'exercises'\n",
    "for matches in re.findall(pattern, string):\n",
    "    print('Found \"%s\"' % matches)"
   ]
  },
  {
   "cell_type": "code",
   "execution_count": 19,
   "id": "41385a1e",
   "metadata": {},
   "outputs": [
    {
     "name": "stdout",
     "output_type": "stream",
     "text": [
      "Found \"fox\" in \"The quick brown fox jumps over the lazy dog.\" from 16 to 19 \n"
     ]
    }
   ],
   "source": [
    "#Write a Python program to find the occurrence and position of the substrings within a string.\n",
    "pattern = 'fox'\n",
    "string = 'The quick brown fox jumps over the lazy dog.'\n",
    "res = re.search(pattern, string)\n",
    "s = res.start()\n",
    "e = res.end()\n",
    "print('Found \"%s\" in \"%s\" from %d to %d ' % \\\n",
    "    (match.re.pattern, match.string, s, e))"
   ]
  },
  {
   "cell_type": "code",
   "execution_count": 20,
   "id": "db6d1605",
   "metadata": {},
   "outputs": [
    {
     "name": "stdout",
     "output_type": "stream",
     "text": [
      "Date in YYY-MM-DD Format:  2026-01-02\n",
      "Date in DD-MM-YYYY Format:  02-01-2026\n"
     ]
    }
   ],
   "source": [
    "#Write a Python program to convert a date of yyyy-mm-dd format to dd-mm-yyyy format\n",
    "import re\n",
    "def convert_date(date_input):\n",
    "        return re.sub(r'(\\d{4})-(\\d{1,2})-(\\d{1,2})', '\\\\3-\\\\2-\\\\1', date_input)\n",
    "dt = \"2026-01-02\"\n",
    "print(\"Date in YYY-MM-DD Format: \",dt)\n",
    "print(\"Date in DD-MM-YYYY Format: \",convert_date(dt))"
   ]
  },
  {
   "cell_type": "code",
   "execution_count": 21,
   "id": "4e572570",
   "metadata": {},
   "outputs": [
    {
     "name": "stdout",
     "output_type": "stream",
     "text": [
      "['01.12', '0132.12', '2.31', '145.8', '3.01', '27.25', '0.25']\n"
     ]
    }
   ],
   "source": [
    "#Create a function in python to find all decimal numbers with a precision of 1 or 2 in a string. The use of the re.compile() method is mandatory.\n",
    "def precision_check(string):\n",
    "  pattern = re.compile(r'\\d+\\.\\d{1,2}')\n",
    "  num = re.findall(pattern, string)\n",
    "  return num\n",
    "\n",
    "sample_string = \"01.12 0132.123 2.31875 145.8 3.01 27.25 0.25\"\n",
    "result = precision_check(sample_string)\n",
    "print(result)"
   ]
  },
  {
   "cell_type": "code",
   "execution_count": 22,
   "id": "dd24ed64",
   "metadata": {},
   "outputs": [
    {
     "name": "stdout",
     "output_type": "stream",
     "text": [
      "380\n",
      "Position of <re.Match object; span=(38, 41), match='380'> in the string is: 38\n",
      "100\n",
      "Position of <re.Match object; span=(82, 85), match='100'> in the string is: 82\n"
     ]
    }
   ],
   "source": [
    "#Write a Python program to separate and print the numbers and their position of a given string.\n",
    "import re\n",
    "text = \"This program separates and prints the 380 numbers and their position in the given 100 string.\"\n",
    "\n",
    "for i in re.finditer(\"\\d+\", text):\n",
    "    print(i.group(0))\n",
    "    print(f\"Position of {i} in the string is:\", i.start())"
   ]
  },
  {
   "cell_type": "code",
   "execution_count": 25,
   "id": "e969d950",
   "metadata": {},
   "outputs": [
    {
     "name": "stdout",
     "output_type": "stream",
     "text": [
      "950\n"
     ]
    }
   ],
   "source": [
    "#Write a regular expression in python program to extract maximum/largest numeric value from a string\n",
    "input_string = 'My marks in each semester are: 947, 896, 926, 524, 734, 950, 642'\n",
    "\n",
    "num = re.findall(r'\\d+', input_string)\n",
    "num = [int(value) for value in num]\n",
    "\n",
    "max_num = max(num)\n",
    "\n",
    "print(max_num)"
   ]
  },
  {
   "cell_type": "code",
   "execution_count": 26,
   "id": "fbb435fa",
   "metadata": {},
   "outputs": [
    {
     "name": "stdout",
     "output_type": "stream",
     "text": [
      "Regular Expression1 Is An2 Important Topic3 In Python\n"
     ]
    }
   ],
   "source": [
    "#Create a function in python to insert spaces between words starting with capital letters.\n",
    "def create_space(text):\n",
    "  pattern = r'([A-Z][a-z0-9]+|\\d+)'\n",
    "  result = re.sub(pattern, r' \\1', text)\n",
    "  result = result.strip()\n",
    "  return result\n",
    "\n",
    "text = \"RegularExpression1IsAn2ImportantTopic3InPython\"\n",
    "output = create_space(text)\n",
    "print(output)"
   ]
  },
  {
   "cell_type": "code",
   "execution_count": 27,
   "id": "0f4b0ebc",
   "metadata": {},
   "outputs": [
    {
     "name": "stdout",
     "output_type": "stream",
     "text": [
      "Match found!\n",
      "Match not found!\n"
     ]
    }
   ],
   "source": [
    "#Python regex to find sequences of one upper case letter followed by lower case letters\n",
    "import re\n",
    "def search_string(string):\n",
    "        pattern = '[A-Z]+[a-z]+$'\n",
    "        if re.search(pattern, string):\n",
    "                return 'Match found!'\n",
    "        else:\n",
    "                return('Match not found!')\n",
    "print(search_string(\"IndianaOnyinye\"))\n",
    "print(search_string(\"ngozi\"))"
   ]
  },
  {
   "cell_type": "code",
   "execution_count": 28,
   "id": "38a0d119",
   "metadata": {},
   "outputs": [
    {
     "name": "stdout",
     "output_type": "stream",
     "text": [
      "Enter a sentence: Hello hello world world\n",
      "Sentence with continuous duplicate words removed:\n",
      "Hello hello world\n"
     ]
    }
   ],
   "source": [
    "#Write a Python program to remove continuous duplicate words from Sentence using Regular Expression.\n",
    "import re\n",
    "\n",
    "def remove_continuous_duplicates(sentence):\n",
    "    cleaned_sentence = re.sub(r'\\b(\\w+)\\s+\\1\\b', r'\\1', sentence)\n",
    "    return cleaned_sentence\n",
    "\n",
    "input_sentence = input(\"Enter a sentence: \")\n",
    "\n",
    "result = remove_continuous_duplicates(input_sentence)\n",
    "print(\"Sentence with continuous duplicate words removed:\")\n",
    "print(result)"
   ]
  },
  {
   "cell_type": "code",
   "execution_count": 30,
   "id": "d938341a",
   "metadata": {},
   "outputs": [
    {
     "name": "stdout",
     "output_type": "stream",
     "text": [
      "Enter a string: Why are you here at this time?\n",
      "The string does not end with an alphanumeric character.\n"
     ]
    }
   ],
   "source": [
    "#Write a python program using RegEx to accept string ending with alphanumeric character.\n",
    "def ends_with_alphanumeric(input_string):\n",
    "    pattern = re.compile(r'\\w$')\n",
    "    return bool(pattern.search(input_string))\n",
    "\n",
    "user_input = input(\"Enter a string: \")\n",
    "\n",
    "if ends_with_alphanumeric(user_input):\n",
    "    print(\"The string ends with an alphanumeric character.\")\n",
    "else:\n",
    "    print(\"The string does not end with an alphanumeric character.\")"
   ]
  },
  {
   "cell_type": "code",
   "execution_count": 34,
   "id": "affa595c",
   "metadata": {},
   "outputs": [
    {
     "name": "stdout",
     "output_type": "stream",
     "text": [
      "Extracted hashtags:\n",
      "#Doltiwal\n",
      "#xyzabc\n",
      "#Demonetization\n"
     ]
    }
   ],
   "source": [
    "#Write a python program using RegEx to extract the hashtags\n",
    "import re\n",
    "\n",
    "def extract_regexhashtag(text):\n",
    "    pattern = re.compile(r'#\\w+')\n",
    "    return pattern.findall(text)\n",
    "\n",
    "string = \"\"\"RT @kapil_kausik: #Doltiwal I mean #xyzabc is \"hurt\" by #Demonetization as the same has rendered USELESS <ed><U+00A0><U+00BD><ed><U+00B1><U+0089> \"acquired funds\" No wo\"\"\"\n",
    "\n",
    "hashtags = extract_regexhashtag(string)\n",
    "\n",
    "if hashtags:\n",
    "    print(\"Extracted hashtags:\")\n",
    "    for hashtag in hashtags:\n",
    "        print(hashtag)\n",
    "else:\n",
    "    print(\"No hashtags found in the text.\")"
   ]
  },
  {
   "cell_type": "code",
   "execution_count": 38,
   "id": "b1263e0e",
   "metadata": {},
   "outputs": [
    {
     "name": "stdout",
     "output_type": "stream",
     "text": [
      "Text with unicode symbols removed: @Jags123456 Bharat band on 28??<ed><ed>Those who  are protesting #demonetization  are all different party leaders\n"
     ]
    }
   ],
   "source": [
    "#Write a python program using RegEx to remove <U+..> like symbols\n",
    "import re\n",
    "\n",
    "def remove_symbols(text):\n",
    "    pattern = re.compile(r'<U\\+[0-9A-Fa-f]+>')\n",
    "    return pattern.sub('', text)\n",
    "\n",
    "sample_text = \"@Jags123456 Bharat band on 28??<ed><U+00A0><U+00BD><ed><U+00B8><U+0082>Those who  are protesting #demonetization  are all different party leaders\"\n",
    "\n",
    "result = remove_symbols(sample_text)\n",
    "print(\"Text with unicode symbols removed:\", result)"
   ]
  },
  {
   "cell_type": "code",
   "execution_count": 40,
   "id": "02cf42f6",
   "metadata": {},
   "outputs": [
    {
     "name": "stdout",
     "output_type": "stream",
     "text": [
      "['12-09-1992', '15-12-1999']\n"
     ]
    }
   ],
   "source": [
    "#Write a python program to extract dates from the text stored in the text file.\n",
    "text = open('datefile.txt', \"w+\")\n",
    "text.write(\"Ron was born on 12-09-1992 and he was admitted to school 15-12-1999.\")\n",
    "\n",
    "date_pattern = r'\\d{2}-\\d{2}-\\d{4}'\n",
    "\n",
    "with open('datefile.txt', 'r') as file:\n",
    "  datefile_open = file.read()\n",
    " \n",
    "matches = re.findall(date_pattern,datefile_open)\n",
    "print(matches)\n"
   ]
  },
  {
   "cell_type": "code",
   "execution_count": null,
   "id": "ea15c663",
   "metadata": {},
   "outputs": [],
   "source": [
    "#Create a function in python to remove all words from a string of length between 2 and 4.\n",
    "import re\n",
    "def remove_words(string):\n",
    "  pattern = re.compile(r'\\b\\w{2,4}\\b')\n",
    "  modified_string = re.sub(pattern, '', string)\n",
    "  return modified_string\n",
    "\n",
    "sample_string = \"The following example creates an ArrayList with a capacity of 50 elements. 4 elements are then added to the ArrayList and the ArrayList is trimmed accordingly.\"\n",
    "result = remove_words(sample_string)\n",
    "print(result)"
   ]
  }
 ],
 "metadata": {
  "kernelspec": {
   "display_name": "Python 3 (ipykernel)",
   "language": "python",
   "name": "python3"
  },
  "language_info": {
   "codemirror_mode": {
    "name": "ipython",
    "version": 3
   },
   "file_extension": ".py",
   "mimetype": "text/x-python",
   "name": "python",
   "nbconvert_exporter": "python",
   "pygments_lexer": "ipython3",
   "version": "3.11.3"
  }
 },
 "nbformat": 4,
 "nbformat_minor": 5
}
