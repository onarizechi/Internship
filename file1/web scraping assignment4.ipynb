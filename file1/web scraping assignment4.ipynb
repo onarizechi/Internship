{
 "cells": [
  {
   "cell_type": "code",
   "execution_count": null,
   "id": "b2b9c172",
   "metadata": {},
   "outputs": [],
   "source": [
    "import selenium\n",
    "import pandas as pd\n",
    "from selenium import webdriver\n",
    "import warnings\n",
    "import time\n",
    "warnings.filterwarnings('ignore')\n",
    "from selenium.webdriver.common.by import By\n",
    "import requests\n",
    "from selenium.common.exceptions import StaleElementReferenceException,NoSuchElementException\n",
    "from selenium.common.exceptions import WebDriverException"
   ]
  },
  {
   "cell_type": "code",
   "execution_count": null,
   "id": "86d6ef07",
   "metadata": {},
   "outputs": [],
   "source": [
    "driver = webdriver.Chrome()"
   ]
  },
  {
   "cell_type": "code",
   "execution_count": null,
   "id": "45571d44",
   "metadata": {},
   "outputs": [],
   "source": [
    "#opening the wikipedia page on automated chrome browser\n",
    "\n",
    "driver.get(\"https://en.wikipedia.org/wiki/List_of_most-viewed_YouTube_videos\")"
   ]
  },
  {
   "cell_type": "code",
   "execution_count": null,
   "id": "12776b47",
   "metadata": {},
   "outputs": [],
   "source": [
    "tbody = driver.find_element(By.XPATH,\"/html/body/div[2]/div/div[3]/main/div[3]/div[3]/div[1]/table[1]/tbody\")"
   ]
  },
  {
   "cell_type": "code",
   "execution_count": null,
   "id": "2bc49718",
   "metadata": {},
   "outputs": [],
   "source": [
    "video_name = []\n",
    "counter = 0\n",
    "for tr in tbody.find_elements(By.XPATH,'//tr//td[1]'):\n",
    "    data = tr.text\n",
    "    video_name.append(data)\n",
    "    counter += 1\n",
    "    if counter == 30:\n",
    "        break\n",
    "\n",
    "video_name"
   ]
  },
  {
   "cell_type": "code",
   "execution_count": null,
   "id": "a5a9dc48",
   "metadata": {},
   "outputs": [],
   "source": [
    "artist = []\n",
    "counter = 0\n",
    "for tr in tbody.find_elements(By.XPATH,'//tr//td[2]'):\n",
    "    data = tr.text\n",
    "    artist.append(data)\n",
    "    counter += 1\n",
    "    if counter == 30:\n",
    "        break\n",
    "\n",
    "artist"
   ]
  },
  {
   "cell_type": "code",
   "execution_count": null,
   "id": "e162cbc8",
   "metadata": {},
   "outputs": [],
   "source": [
    "upload_date = []\n",
    "counter = 0\n",
    "for tr in tbody.find_elements(By.XPATH,'//tr//td[4]'):\n",
    "    data = tr.text\n",
    "    upload_date.append(data)\n",
    "    counter += 1\n",
    "    if counter == 30:\n",
    "        break\n",
    "\n",
    "upload_date"
   ]
  },
  {
   "cell_type": "code",
   "execution_count": null,
   "id": "3fa35f48",
   "metadata": {},
   "outputs": [],
   "source": [
    "\n",
    "views = []\n",
    "counter = 0\n",
    "for tr in tbody.find_elements(By.XPATH,'//tr//td[3]'):\n",
    "    data = tr.text\n",
    "    views.append(data)\n",
    "    counter += 1\n",
    "    if counter == 30:\n",
    "        break\n",
    "​\n",
    "views"
   ]
  },
  {
   "cell_type": "code",
   "execution_count": null,
   "id": "d28db9bf",
   "metadata": {},
   "outputs": [],
   "source": [
    "df = pd.DataFrame({'Video Name':video_name,'Name of Artist':artist,'Upload date':upload_date,'Views':views})\n",
    "df"
   ]
  },
  {
   "cell_type": "markdown",
   "id": "3ea27a22",
   "metadata": {},
   "source": [
    "2. Scrape the details team India’s international fixtures from bcci.tv.\n",
    "Url = https://www.bcci.tv/.\n",
    "You need to find following details:\n",
    "A) Series\n",
    "B) Place\n",
    "C) Date\n",
    "D) Time\n",
    "Note: - From bcci.tv home page you have reach to the international fixture page through code. "
   ]
  },
  {
   "cell_type": "code",
   "execution_count": null,
   "id": "fd4e0b1d",
   "metadata": {},
   "outputs": [],
   "source": [
    "driver = webdriver.Chrome()"
   ]
  },
  {
   "cell_type": "code",
   "execution_count": null,
   "id": "f5d8340e",
   "metadata": {},
   "outputs": [],
   "source": [
    "#opening the bcci page on automated chrome browser\n",
    "\n",
    "driver.get(\"http://www.bcci.tv/\")"
   ]
  },
  {
   "cell_type": "code",
   "execution_count": null,
   "id": "b2d68a75",
   "metadata": {},
   "outputs": [],
   "source": [
    "#clicking the fixture icon\n",
    "search = driver.find_element(By.XPATH,\"/html/body/header/div[3]/div[2]/ul/div[1]/a[2]\")\n",
    "search.click()"
   ]
  },
  {
   "cell_type": "code",
   "execution_count": null,
   "id": "8db0ccd8",
   "metadata": {},
   "outputs": [],
   "source": [
    "#scraping Series name\n",
    "series = []\n",
    "\n",
    "series_tags = driver.find_elements(By.XPATH,'//h5[@class=\"match-tournament-name ng-binding\"]')\n",
    "for i in series_tags:\n",
    "    series_name = i.text\n",
    "    series.append(series_name)\n",
    "series"
   ]
  },
  {
   "cell_type": "code",
   "execution_count": null,
   "id": "c5e514ae",
   "metadata": {},
   "outputs": [],
   "source": [
    "#scraping place\n",
    "place = []\n",
    "\n",
    "place_tags = driver.find_elements(By.XPATH,'//span[@class=\"ng-binding ng-scope\"]')\n",
    "for i in place_tags:\n",
    "    place_name = i.text\n",
    "    place.append(place_name)\n",
    "    \n",
    "place"
   ]
  },
  {
   "cell_type": "code",
   "execution_count": null,
   "id": "aba3a6e4",
   "metadata": {},
   "outputs": [],
   "source": [
    "#scraping date\n",
    "date = []\n",
    "\n",
    "date_tags = driver.find_elements(By.XPATH,'//div[@class=\"match-dates ng-binding\"]')\n",
    "for i in date_tags:\n",
    "    date_name = i.text\n",
    "    date.append(date_name)\n",
    "    \n",
    "date"
   ]
  },
  {
   "cell_type": "code",
   "execution_count": null,
   "id": "08d48867",
   "metadata": {},
   "outputs": [],
   "source": [
    "#scraping time\n",
    "time = []\n",
    "\n",
    "time_tags = driver.find_elements(By.XPATH,'//div[@class=\"match-time no-margin ng-binding\"]')\n",
    "for i in time_tags:\n",
    "    time_name = i.text\n",
    "    time.append(time_name)\n",
    "    \n",
    "time"
   ]
  },
  {
   "cell_type": "code",
   "execution_count": null,
   "id": "5e009697",
   "metadata": {},
   "outputs": [],
   "source": [
    "df = pd.DataFrame({'Series':series,'Place':place,'Date':date,'Time':time})\n",
    "df"
   ]
  },
  {
   "cell_type": "markdown",
   "id": "2c2f47c4",
   "metadata": {},
   "source": [
    "3. Scrape the details of State-wise GDP of India from statisticstime.com.\n",
    "Url = http://statisticstimes.com/\n",
    "You have to find following details: A) Rank\n",
    "B) State\n",
    "C) GSDP(18-19)- at current prices\n",
    "D) GSDP(19-20)- at current prices\n",
    "E) Share(18-19)\n",
    "F) GDP($ billion)\n",
    "Note: - From statisticstimes home page you have to reach to economy page through code. "
   ]
  },
  {
   "cell_type": "code",
   "execution_count": null,
   "id": "ac825bcd",
   "metadata": {},
   "outputs": [],
   "source": [
    "#opening the statistics page on automated chrome browser\n",
    "\n",
    "driver.get(\"http://statisticstimes.com/\")"
   ]
  },
  {
   "cell_type": "code",
   "execution_count": null,
   "id": "0591c533",
   "metadata": {},
   "outputs": [],
   "source": [
    "#clicking the economy icon\n",
    "search = driver.find_element(By.XPATH,\"/html/body/div[2]/div[1]/div[2]/div[2]/button\")\n",
    "search.click()"
   ]
  },
  {
   "cell_type": "code",
   "execution_count": null,
   "id": "715580fe",
   "metadata": {},
   "outputs": [],
   "source": [
    "#clicking the indian tab\n",
    "search = driver.find_element(By.XPATH,\"/html/body/div[2]/div[1]/div[2]/div[2]/div/a[3]\")\n",
    "search.click()"
   ]
  },
  {
   "cell_type": "code",
   "execution_count": null,
   "id": "2c4ceb58",
   "metadata": {},
   "outputs": [],
   "source": [
    "#clicking the gdp of indian states text\n",
    "search = driver.find_element(By.XPATH,\"/html/body/div[2]/div[2]/div[2]/ul/li[1]/a\")\n",
    "search.click()"
   ]
  },
  {
   "cell_type": "code",
   "execution_count": null,
   "id": "75d28ad0",
   "metadata": {},
   "outputs": [],
   "source": [
    "tbody = driver.find_element(By.XPATH,\"/html/body/div[4]/div[2]/div[5]/div[1]/div/table/tbody\")\n"
   ]
  },
  {
   "cell_type": "code",
   "execution_count": null,
   "id": "54770653",
   "metadata": {},
   "outputs": [],
   "source": [
    "rank =[]\n",
    "counter = 0\n",
    "rank_tags = tbody.find_elements(By.XPATH,'//tr/td[1]')\n",
    "for i in rank_tags:\n",
    "    rank_name = i.text\n",
    "    rank.append(rank_name)\n",
    "    counter += 1\n",
    "    if counter == 35:\n",
    "        break\n",
    "rank"
   ]
  },
  {
   "cell_type": "code",
   "execution_count": null,
   "id": "6bf56ef6",
   "metadata": {},
   "outputs": [],
   "source": [
    "state = []\n",
    "counter = 0\n",
    "for tr in tbody.find_elements(By.XPATH,'//tr//td[2]'):\n",
    "    data = tr.text\n",
    "    state.append(data)\n",
    "    counter += 1\n",
    "    if counter == 35:\n",
    "        break\n",
    "state"
   ]
  },
  {
   "cell_type": "code",
   "execution_count": null,
   "id": "3471ac28",
   "metadata": {},
   "outputs": [],
   "source": [
    "gspd = []\n",
    "counter = 0\n",
    "for tr in tbody.find_elements(By.XPATH,'//tr//td[3]'):\n",
    "    data = tr.text\n",
    "    gspd.append(data)\n",
    "    counter += 1\n",
    "    if counter == 35:\n",
    "        break\n",
    "gspd"
   ]
  },
  {
   "cell_type": "code",
   "execution_count": null,
   "id": "ebe3dc73",
   "metadata": {},
   "outputs": [],
   "source": [
    "gspd2 = []\n",
    "counter = 0\n",
    "for tr in tbody.find_elements(By.XPATH,'//tr//td[4]'):\n",
    "    data = tr.text\n",
    "    gspd2.append(data)\n",
    "    counter += 1\n",
    "    if counter == 35:\n",
    "        break\n",
    "gspd2"
   ]
  },
  {
   "cell_type": "code",
   "execution_count": null,
   "id": "da87d818",
   "metadata": {},
   "outputs": [],
   "source": [
    "shares = []\n",
    "counter = 0\n",
    "for tr in tbody.find_elements(By.XPATH,'//tr//td[6]'):\n",
    "    data = tr.text\n",
    "    shares.append(data)\n",
    "    counter += 1\n",
    "    if counter == 35:\n",
    "        break\n",
    "shares"
   ]
  },
  {
   "cell_type": "code",
   "execution_count": null,
   "id": "8abb08b1",
   "metadata": {},
   "outputs": [],
   "source": [
    "gdp = []\n",
    "counter = 0\n",
    "for tr in tbody.find_elements(By.XPATH,'//tr//td[7]'):\n",
    "    data = tr.text\n",
    "    gdp.append(data)\n",
    "    counter += 1\n",
    "    if counter == 35:\n",
    "        break\n",
    "gdp"
   ]
  },
  {
   "cell_type": "code",
   "execution_count": null,
   "id": "f4490d83",
   "metadata": {},
   "outputs": [],
   "source": [
    "df = pd.DataFrame({'Rank':rank,'State':state,'GSDP(23-24)':gspd,'GSDP(22-23)':gspd2,'Shares':shares,'GDP':gdp})\n",
    "df"
   ]
  },
  {
   "cell_type": "markdown",
   "id": "aa265a69",
   "metadata": {},
   "source": [
    "4. Scrape the details of trending repositories on Github.com. \n",
    "Url = https://github.com/ \n",
    "You have to find the following details: \n",
    "A) Repository title \n",
    "B) Repository description \n",
    "C) Contributors count \n",
    "D) Language used "
   ]
  },
  {
   "cell_type": "code",
   "execution_count": null,
   "id": "6a666d91",
   "metadata": {},
   "outputs": [],
   "source": [
    "driver = webdriver.Chrome()"
   ]
  },
  {
   "cell_type": "code",
   "execution_count": null,
   "id": "d22993e5",
   "metadata": {},
   "outputs": [],
   "source": [
    "#opening the github page on automated chrome browser\n",
    "\n",
    "driver.get(\"https://github.com/\")"
   ]
  },
  {
   "cell_type": "code",
   "execution_count": null,
   "id": "1e4cb3c2",
   "metadata": {},
   "outputs": [],
   "source": [
    "#searching for trending repository\n",
    "search = driver.find_element(By.XPATH,\"/html/body/div[1]/div[1]/header/div/div[2]/div/div/qbsearch-input/div[1]/div/modal-dialog/div/div/div/form/query-builder/div[1]/div[1]/div/div[2]/input\")\n",
    "search.send_keys('Trending_Repositories')"
   ]
  },
  {
   "cell_type": "code",
   "execution_count": null,
   "id": "0614c3bd",
   "metadata": {},
   "outputs": [],
   "source": [
    "#clicking the search button\n",
    "button = driver.find_element(By.XPATH,\"/html/body/div[1]/div[1]/header/div/div[2]/div/div/qbsearch-input/div[1]/div/modal-dialog/div/div/div/form/query-builder/div[1]/div[2]/ul/li/ul/li/span/span[2]/span\")\n",
    "button.click()"
   ]
  },
  {
   "cell_type": "code",
   "execution_count": null,
   "id": "d7981b53",
   "metadata": {},
   "outputs": [],
   "source": [
    "#Click the trending\n",
    "search = driver.find_element(By.XPATH,\"/html/body/div[1]/div[4]/main/react-app/div/div/div[1]/div/div/div[2]/div[2]/div/div[1]/div[4]/div/div/div[3]/div/div[1]/h3/div/div[2]/a/span\")\n",
    "search.click()"
   ]
  },
  {
   "cell_type": "code",
   "execution_count": null,
   "id": "fbf5ec44",
   "metadata": {},
   "outputs": [],
   "source": [
    "tbody = driver.find_element(By.XPATH,\"/html/body/div[1]/div[4]/div/main/turbo-frame/div/div/div/div[2]/div[1]/react-partial/div/div/div[3]/div[2]/div/div[2]\")\n"
   ]
  },
  {
   "cell_type": "code",
   "execution_count": null,
   "id": "84c3ec67",
   "metadata": {},
   "outputs": [],
   "source": [
    "title =[]\n",
    "counter = 0\n",
    "title_tags = tbody.find_elements(By.XPATH,'//tr/td[3]/div[@dir=\"auto\"]/a')\n",
    "for i in title_tags:\n",
    "    title_name = i.text\n",
    "    title.append(title_name)\n",
    "   \n",
    "title"
   ]
  },
  {
   "cell_type": "code",
   "execution_count": null,
   "id": "85962993",
   "metadata": {},
   "outputs": [],
   "source": [
    "description =[]\n",
    "counter = 0\n",
    "description_tags = tbody.find_elements(By.XPATH,'//tr/td[3]')\n",
    "for i in description_tags:\n",
    "    description_name = i.text\n",
    "    description.append(description_name)\n",
    "   \n",
    "description"
   ]
  },
  {
   "cell_type": "code",
   "execution_count": null,
   "id": "b00af528",
   "metadata": {},
   "outputs": [],
   "source": [
    "stars = []\n",
    "counter = 0\n",
    "for tr in tbody.find_elements(By.XPATH,'//tr//td[5]'):\n",
    "    data = tr.text\n",
    "    stars.append(data)\n",
    "  \n",
    "stars"
   ]
  },
  {
   "cell_type": "code",
   "execution_count": null,
   "id": "32da56dc",
   "metadata": {},
   "outputs": [],
   "source": [
    "lang = []\n",
    "counter = 0\n",
    "for tr in tbody.find_elements(By.XPATH,'//tr//td[6]'):\n",
    "    data = tr.text\n",
    "    lang.append(data)\n",
    "    \n",
    "lang"
   ]
  },
  {
   "cell_type": "code",
   "execution_count": null,
   "id": "c110881b",
   "metadata": {},
   "outputs": [],
   "source": [
    "df = pd.DataFrame({'Repository Title':title,'Description':description,'Contributors':stars,'Language':lang})\n",
    "df"
   ]
  },
  {
   "cell_type": "markdown",
   "id": "d0786a26",
   "metadata": {},
   "source": [
    "5. Scrape the details of top 100 songs on billiboard.com. Url = https:/www.billboard.com/ You have to find the \n",
    "following details: \n",
    "A) Song name \n",
    "B) Artist name \n",
    "C) Last week rank \n",
    "D) Peak rank \n",
    "E) Weeks on board \n",
    " Note: - From the home page you have to click on the charts option then hot 100-page link through code"
   ]
  },
  {
   "cell_type": "code",
   "execution_count": null,
   "id": "99ff050d",
   "metadata": {},
   "outputs": [],
   "source": [
    "driver = webdriver.Chrome()"
   ]
  },
  {
   "cell_type": "code",
   "execution_count": null,
   "id": "c9625861",
   "metadata": {},
   "outputs": [],
   "source": [
    "#opening the billboard page on automated chrome browser\n",
    "\n",
    "driver.get(\"https://www.billboard.com/\")"
   ]
  },
  {
   "cell_type": "code",
   "execution_count": null,
   "id": "89412ae6",
   "metadata": {},
   "outputs": [],
   "source": [
    "#clicking the charts button\n",
    "button = driver.find_element(By.XPATH,\"/html/body/div[3]/header/div/div[1]/div/div/div[2]/div/nav/ul/li[1]\")\n",
    "button.click()"
   ]
  },
  {
   "cell_type": "code",
   "execution_count": null,
   "id": "4db4b842",
   "metadata": {},
   "outputs": [],
   "source": [
    "#Click the trending\n",
    "search = driver.find_element(By.XPATH,\"/html/body/div[3]/main/div[2]/div[1]/div[2]/div/div[1]/div[3]/a\")\n",
    "search.click()"
   ]
  },
  {
   "cell_type": "code",
   "execution_count": null,
   "id": "202b7cb8",
   "metadata": {},
   "outputs": [],
   "source": [
    "song_name =[]\n",
    "counter = 0\n",
    "song_tags = driver.find_elements(By.XPATH,'//h3[@class=\"c-title  a-no-trucate a-font-primary-bold-s u-letter-spacing-0021 lrv-u-font-size-18@tablet lrv-u-font-size-16 u-line-height-125 u-line-height-normal@mobile-max a-truncate-ellipsis u-max-width-330 u-max-width-230@tablet-only\"]')\n",
    "for i in song_tags:\n",
    "    data = i.text\n",
    "    song_name.append(data)\n",
    "    counter += 1\n",
    "    if counter == 100:\n",
    "        break\n",
    "   \n",
    "song_name"
   ]
  },
  {
   "cell_type": "code",
   "execution_count": null,
   "id": "832778ca",
   "metadata": {},
   "outputs": [],
   "source": [
    "artist =[]\n",
    "counter = 0\n",
    "artist_tags = driver.find_elements(By.XPATH,'//span[@class=\"c-label  a-no-trucate a-font-primary-s lrv-u-font-size-14@mobile-max u-line-height-normal@mobile-max u-letter-spacing-0021 lrv-u-display-block a-truncate-ellipsis-2line u-max-width-330 u-max-width-230@tablet-only\"]')\n",
    "for i in artist_tags:\n",
    "    artist_name = i.text\n",
    "    artist.append(artist_name)\n",
    "    counter += 1\n",
    "    if counter == 100:\n",
    "        break\n",
    "artist"
   ]
  },
  {
   "cell_type": "code",
   "execution_count": null,
   "id": "bcca00fc",
   "metadata": {},
   "outputs": [],
   "source": [
    "last_rank =[]\n",
    "counter = 0\n",
    "last_tags = driver.find_elements(By.XPATH,'//li[@class=\"o-chart-results-list__item // a-chart-color u-width-72 u-width-55@mobile-max u-width-55@tablet-only lrv-u-flex lrv-u-flex-shrink-0 lrv-u-align-items-center lrv-u-justify-content-center lrv-u-border-b-1 u-border-b-0@mobile-max lrv-u-border-color-grey-light u-background-color-white-064@mobile-max u-hidden@mobile-max\"]')\n",
    "for i in last_tags:\n",
    "    last_name = i.text\n",
    "    last_rank.append(last_name)\n",
    "    counter += 1\n",
    "    if counter == 100:\n",
    "        break\n",
    "last_rank"
   ]
  },
  {
   "cell_type": "code",
   "execution_count": null,
   "id": "c25b00f5",
   "metadata": {},
   "outputs": [],
   "source": [
    "peak_rank =[]\n",
    "counter = 0\n",
    "peak_tags = driver.find_elements(By.XPATH,'//li[@class=\"o-chart-results-list__item // a-chart-color u-width-72 u-width-55@mobile-max u-width-55@tablet-only lrv-u-flex lrv-u-flex-shrink-0 lrv-u-align-items-center lrv-u-justify-content-center lrv-u-border-b-1 u-border-b-0@mobile-max lrv-u-border-color-grey-light u-background-color-white-064@mobile-max u-hidden@mobile-max\"]')\n",
    "for i in peak_tags:\n",
    "    peak_name = i.text\n",
    "    peak_rank.append(peak_name)\n",
    "    counter += 1\n",
    "    if counter == 100:\n",
    "        break\n",
    "peak_rank"
   ]
  },
  {
   "cell_type": "code",
   "execution_count": null,
   "id": "3224e440",
   "metadata": {},
   "outputs": [],
   "source": [
    "weeks =[]\n",
    "counter = 0\n",
    "weeks_tags = driver.find_elements(By.XPATH,'//li[@class=\"o-chart-results-list__item // a-chart-color u-width-72 u-width-55@mobile-max u-width-55@tablet-only lrv-u-flex lrv-u-flex-shrink-0 lrv-u-align-items-center lrv-u-justify-content-center lrv-u-border-b-1 u-border-b-0@mobile-max lrv-u-border-color-grey-light u-background-color-white-064@mobile-max u-hidden@mobile-max\"]')\n",
    "for i in weeks_tags:\n",
    "    weeks_name = i.text\n",
    "    weeks.append(weeks_name)\n",
    "    counter += 1\n",
    "    if counter == 100:\n",
    "        break\n",
    "weeks"
   ]
  },
  {
   "cell_type": "code",
   "execution_count": null,
   "id": "bdfb769c",
   "metadata": {},
   "outputs": [],
   "source": [
    "df = pd.DataFrame({'Song name':song_name,'Name of Artist':artist,'Last Week Rank':last_rank,'Peaks Rank':peak_rank,'Weeks on Board':weeks})\n",
    "df"
   ]
  },
  {
   "cell_type": "markdown",
   "id": "7aa352d6",
   "metadata": {},
   "source": [
    "6. Scrape the details of Highest selling novels. \n",
    "A) Book name \n",
    "B) Author name \n",
    "C) Volumes sold \n",
    "D) Publisher \n",
    "E) Genre \n",
    " Url - https://www.theguardian.com/news/datablog/2012/aug/09/best-selling-books-all-time-fifty-shades-grey-compare"
   ]
  },
  {
   "cell_type": "code",
   "execution_count": null,
   "id": "1c2d4483",
   "metadata": {},
   "outputs": [],
   "source": [
    "driver = webdriver.Chrome()"
   ]
  },
  {
   "cell_type": "code",
   "execution_count": null,
   "id": "9277736d",
   "metadata": {},
   "outputs": [],
   "source": [
    "#opening the billboard page on automated chrome browser\n",
    "\n",
    "driver.get(\"https://www.theguardian.com/news/datablog/2012/aug/09/best-selling-books-all-time-fifty-shades-grey-compare\")"
   ]
  },
  {
   "cell_type": "code",
   "execution_count": null,
   "id": "a8555701",
   "metadata": {},
   "outputs": [],
   "source": [
    "#clicking the data button\n",
    "button = driver.find_element(By.XPATH,\"/html/body/div/div[2]/div[1]/div[2]/div/a[2]\")\n",
    "button.click()"
   ]
  },
  {
   "cell_type": "code",
   "execution_count": null,
   "id": "f51a0296",
   "metadata": {},
   "outputs": [],
   "source": [
    "tbody = driver.find_element(By.XPATH,\"/html/body/div/div[2]/div[2]/div/div[2]/div/table/tbody\")"
   ]
  },
  {
   "cell_type": "code",
   "execution_count": null,
   "id": "8158cefe",
   "metadata": {},
   "outputs": [],
   "source": [
    "book_name = []\n",
    "counter = 0\n",
    "for tr in tbody.find_elements(By.XPATH,'//tr//td[2]'):\n",
    "    data = tr.text\n",
    "    book_name.append(data)\n",
    "    counter += 1\n",
    "    if counter == 100:\n",
    "        break\n",
    "\n",
    "book_name"
   ]
  },
  {
   "cell_type": "code",
   "execution_count": null,
   "id": "83d77745",
   "metadata": {},
   "outputs": [],
   "source": [
    "author_name = []\n",
    "counter = 0\n",
    "for tr in tbody.find_elements(By.XPATH,'//tr//td[3]'):\n",
    "    data = tr.text\n",
    "    author_name.append(data)\n",
    "    counter += 1\n",
    "    if counter == 100:\n",
    "        break\n",
    "\n",
    "author_name"
   ]
  },
  {
   "cell_type": "code",
   "execution_count": null,
   "id": "e0995bc8",
   "metadata": {},
   "outputs": [],
   "source": [
    "volumes_sold = []\n",
    "counter = 0\n",
    "for tr in tbody.find_elements(By.XPATH,'//tr//td[4]'):\n",
    "    data = tr.text\n",
    "    volumes_sold.append(data)\n",
    "    counter += 1\n",
    "    if counter == 100:\n",
    "        break\n",
    "\n",
    "volumes_sold"
   ]
  },
  {
   "cell_type": "code",
   "execution_count": null,
   "id": "73d12103",
   "metadata": {},
   "outputs": [],
   "source": [
    "publisher = []\n",
    "counter = 0\n",
    "for tr in tbody.find_elements(By.XPATH,'//tr//td[5]'):\n",
    "    data = tr.text\n",
    "    publisher.append(data)\n",
    "    counter += 1\n",
    "    if counter == 100:\n",
    "        break\n",
    "\n",
    "publisher"
   ]
  },
  {
   "cell_type": "code",
   "execution_count": null,
   "id": "2b56b579",
   "metadata": {},
   "outputs": [],
   "source": [
    "genre = []\n",
    "counter = 0\n",
    "for tr in tbody.find_elements(By.XPATH,'//tr//td[6]'):\n",
    "    data = tr.text\n",
    "    genre.append(data)\n",
    "    counter += 1\n",
    "    if counter == 100:\n",
    "        break\n",
    "\n",
    "genre"
   ]
  },
  {
   "cell_type": "code",
   "execution_count": null,
   "id": "8d0bcc45",
   "metadata": {},
   "outputs": [],
   "source": [
    "df = pd.DataFrame({'Book name':book_name,'Author name':author_name,'Volumes Sold':volumes_sold,'Publisher':publisher,'Genre':genre})\n",
    "df"
   ]
  },
  {
   "cell_type": "markdown",
   "id": "b03b9adb",
   "metadata": {},
   "source": [
    "8. Details of Datasets from UCI machine learning repositories. \n",
    "Url = https://archive.ics.uci.edu/ You \n",
    "have to find the following details: \n",
    "A) Dataset name \n",
    "B) Data type \n",
    "C) Task \n",
    "D) Attribute type \n",
    "E) No of instances \n",
    "F) No of attribute G) Year \n",
    " Note: - from the home page you have to go to the Show All Dataset page through code. "
   ]
  },
  {
   "cell_type": "code",
   "execution_count": null,
   "id": "db342a3b",
   "metadata": {},
   "outputs": [],
   "source": [
    "driver = webdriver.Chrome()"
   ]
  },
  {
   "cell_type": "code",
   "execution_count": null,
   "id": "29e4ac55",
   "metadata": {},
   "outputs": [],
   "source": [
    "#clicking the datasets button\n",
    "button = driver.find_element(By.XPATH,\"/html/body/div/div[1]/div[1]/header/nav/ul/li[1]/a\")\n",
    "button.click()"
   ]
  },
  {
   "cell_type": "code",
   "execution_count": null,
   "id": "c6c7bd9a",
   "metadata": {},
   "outputs": [],
   "source": [
    "dataset_url = []\n",
    "start = 0\n",
    "end = 3\n",
    "\n",
    "for page in range (start,end):\n",
    "    \n",
    "    dataset_tags = driver.find_elements(By.XPATH,'//a[@class=\"link-hover link text-xl font-semibold\"]')\n",
    "    for i in dataset_tags:\n",
    "        if not dataset_tags:  # If brandname is empty, replace with a hyphen\n",
    "            dataset_tags = '-'\n",
    "        dataset_url.append(i.get_attribute('href'))\n",
    "        \n",
    "  \n",
    "    next_button = driver.find_elements(By.XPATH,'/html/body/div/div[1]/div[1]/main/div/div[2]/div[3]/div/button[2]/svg')\n",
    "    \n",
    "\n",
    "dataset_url\n"
   ]
  },
  {
   "cell_type": "code",
   "execution_count": null,
   "id": "465c1b0d",
   "metadata": {},
   "outputs": [],
   "source": [
    "dataset_name =[]\n",
    "\n",
    "for i in dataset_url:\n",
    "    driver.get(i)\n",
    "    time.sleep(2)\n",
    "    try:\n",
    "        name = driver.find_elements(By.XPATH,'//h1[@class=\"text-3xl font-semibold text-primary-content\"]')\n",
    "        for i in name:\n",
    "            data = i.text\n",
    "            dataset_name.append(data)\n",
    "    except NoSuchElementException:\n",
    "        dataset_name.append('-')\n",
    "        \n",
    "dataset_name"
   ]
  }
 ],
 "metadata": {
  "kernelspec": {
   "display_name": "Python 3 (ipykernel)",
   "language": "python",
   "name": "python3"
  },
  "language_info": {
   "codemirror_mode": {
    "name": "ipython",
    "version": 3
   },
   "file_extension": ".py",
   "mimetype": "text/x-python",
   "name": "python",
   "nbconvert_exporter": "python",
   "pygments_lexer": "ipython3",
   "version": "3.11.3"
  }
 },
 "nbformat": 4,
 "nbformat_minor": 5
}
