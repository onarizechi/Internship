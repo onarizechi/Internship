{
 "cells": [
  {
   "cell_type": "markdown",
   "id": "22b69323",
   "metadata": {},
   "source": [
    "1) Write a python program which searches all the product under a particular product from www.amazon.in. The \n",
    "product to be searched will be taken as input from user. For e.g. If user input is ‘guitar’. Then search for \n",
    "guitars. "
   ]
  },
  {
   "cell_type": "code",
   "execution_count": null,
   "id": "00db557e",
   "metadata": {},
   "outputs": [],
   "source": [
    "import selenium\n",
    "import pandas as pd\n",
    "from selenium import webdriver\n",
    "import warnings\n",
    "import time\n",
    "warnings.filterwarnings('ignore')\n",
    "from selenium.webdriver.common.by import By\n",
    "import requests\n",
    "from selenium.common.exceptions import StaleElementReferenceException,NoSuchElementException"
   ]
  },
  {
   "cell_type": "code",
   "execution_count": null,
   "id": "eb86c3b9",
   "metadata": {},
   "outputs": [],
   "source": [
    "driver = webdriver.Chrome()"
   ]
  },
  {
   "cell_type": "code",
   "execution_count": null,
   "id": "66ee1be7",
   "metadata": {},
   "outputs": [],
   "source": [
    "#opening the amazon page on automated chrome browser\n",
    "\n",
    "driver.get(\"https://www.amazon.in/\")"
   ]
  },
  {
   "cell_type": "code",
   "execution_count": null,
   "id": "d3f0fc98",
   "metadata": {},
   "outputs": [],
   "source": [
    "#accepting user input as required in the question\n",
    "\n",
    "user_input = driver.find_element(By.XPATH,\"/html/body/div[1]/header/div/div[1]/div[2]/div/form/div[2]/div[1]/input\")\n",
    "user_input.send_keys(input(\"Enter product to search\"))"
   ]
  },
  {
   "cell_type": "markdown",
   "id": "f2166902",
   "metadata": {},
   "source": [
    "2. In the above question, now scrape the following details of each product listed in first 3 pages of your search \n",
    "results and save it in a data frame and csv. In case if any product has less than 3 pages in search results then \n",
    "scrape all the products available under that product name. Details to be scraped are: \"Brand \n",
    "Name\", \"Name of the Product\", \"Price\", \"Return/Exchange\", \"Expected Delivery\", \"Availability\" and \n",
    "“Product URL”. In case, if any of the details are missing for any of the product then replace it by “-“."
   ]
  },
  {
   "cell_type": "code",
   "execution_count": null,
   "id": "c34d0be1",
   "metadata": {},
   "outputs": [],
   "source": [
    "#clicking the search icon\n",
    "search = driver.find_element(By.XPATH,\"/html/body/div[1]/header/div/div[1]/div[2]/div/form/div[3]/div/span/input\")\n",
    "search.click()"
   ]
  },
  {
   "cell_type": "code",
   "execution_count": null,
   "id": "20a1dcf2",
   "metadata": {},
   "outputs": [],
   "source": [
    "#scraping Brand name\n",
    "brand_name = []\n",
    "start = 0\n",
    "end = 3\n",
    "for page in range (start,end):\n",
    "    brandname_tags = driver.find_elements(By.XPATH,'//h2[@class=\"a-size-mini a-spacing-none a-color-base s-line-clamp-4\"]')\n",
    "    for i in brandname_tags:\n",
    "        brandname = i.text\n",
    "        if not brandname:  # If brandname is empty, replace with a hyphen\n",
    "            brandname = '-'\n",
    "        brand_name.append(brandname)\n",
    "        \n",
    "    next_button = driver.find_elements(By.XPATH,'/html/body/div[1]/div[1]/div[1]/div[1]/div/span[1]/div[1]/div[67]/div/div/span/a[3]')\n",
    "    \n",
    "\n",
    "\n",
    "len(brand_name)\n"
   ]
  },
  {
   "cell_type": "code",
   "execution_count": null,
   "id": "763fb02e",
   "metadata": {},
   "outputs": [],
   "source": [
    "#scraping price\n",
    "prices = []\n",
    "start = 0\n",
    "end = 3\n",
    "for page in range (start,end):\n",
    "    price_tags = driver.find_elements(By.XPATH,'//span[@class=\"a-price-whole\"]')\n",
    "    for i in price_tags:\n",
    "        price = i.text\n",
    "        prices.append(price)\n",
    "    next_button = driver.find_elements(By.XPATH,'/html/body/div[1]/div[1]/div[1]/div[1]/div/span[1]/div[1]/div[67]/div/div/span/a[3]')\n",
    "    \n",
    "\n",
    "\n",
    "len(prices)"
   ]
  },
  {
   "cell_type": "code",
   "execution_count": null,
   "id": "4218dcc1",
   "metadata": {},
   "outputs": [],
   "source": [
    "#scraping product url\n",
    "product_url = []\n",
    "start = 0\n",
    "end = 3\n",
    "for page in range (start,end):\n",
    "    producturl_tags = driver.find_elements(By.XPATH,'//a[@class=\"a-link-normal s-underline-text s-underline-link-text s-link-style a-text-normal\"]')\n",
    "    for i in producturl_tags:\n",
    "        if not product_url:  # If brandname is empty, replace with a hyphen\n",
    "            producturl = '-'\n",
    "        product_url.append(i.get_attribute('href'))\n",
    "        \n",
    "  \n",
    "        \n",
    "    next_button = driver.find_elements(By.XPATH,'/html/body/div[1]/div[1]/div[1]/div[1]/div/span[1]/div[1]/div[67]/div/div/span/a[3]')\n",
    "    \n",
    "\n",
    "\n",
    "len(product_url)"
   ]
  },
  {
   "cell_type": "code",
   "execution_count": null,
   "id": "3a5f053a",
   "metadata": {},
   "outputs": [],
   "source": [
    "expected_delivery =[]\n",
    "\n",
    "for i in product_url:\n",
    "    driver.get(i)\n",
    "    time.sleep(2)\n",
    "    try:\n",
    "        delivery = driver.find_element(By.XPATH,'/html/body/div[2]/div/div[5]/div[3]/div[1]/div[3]/div/div[1]/div/div/div/form/div/div/div/div/div[4]/div/div[3]/div[10]/div[1]/div/div/div[1]/span/span')\n",
    "        expected_delivery.append(delivery.text)\n",
    "    except NoSuchElementException:\n",
    "        expected_delivery.append('-')\n",
    "        \n",
    "expected_delivery"
   ]
  },
  {
   "cell_type": "code",
   "execution_count": null,
   "id": "5f64fb68",
   "metadata": {},
   "outputs": [],
   "source": [
    "availability =[]\n",
    "\n",
    "for i in product_url:\n",
    "    driver.get(i)\n",
    "    time.sleep(2)\n",
    "    \n",
    "    try:\n",
    "        available_tags = driver.find_element(By.XPATH,'/html/body/div[2]/div/div[5]/div[3]/div[1]/div[3]/div/div[1]/div/div/div/form/div/div/div/div/div[4]/div/div[5]/div/div[1]/span')\n",
    "        availability.append(available_tags.text)\n",
    "    except NoSuchElementException:\n",
    "        availability.append('-')\n",
    "   \n",
    "        \n",
    "availability"
   ]
  },
  {
   "cell_type": "code",
   "execution_count": null,
   "id": "bbd8bb93",
   "metadata": {},
   "outputs": [],
   "source": [
    "\n",
    "df = pd.DataFrame({'Brand_Name':brand_name,'Prices':prices,'Expected_delivery':expected_delivery,'Availability':availability})\n",
    "df"
   ]
  },
  {
   "cell_type": "markdown",
   "id": "50217ef4",
   "metadata": {},
   "source": [
    "3. Write a python program to access the search bar and search button on images.google.com and scrape 10 \n",
    "images each for keywords ‘fruits’, ‘cars’ and ‘Machine Learning’, ‘Guitar’, ‘Cakes’. "
   ]
  },
  {
   "cell_type": "code",
   "execution_count": 1,
   "id": "e9cf3e98",
   "metadata": {},
   "outputs": [
    {
     "ename": "NameError",
     "evalue": "name 'webdriver' is not defined",
     "output_type": "error",
     "traceback": [
      "\u001b[1;31m---------------------------------------------------------------------------\u001b[0m",
      "\u001b[1;31mNameError\u001b[0m                                 Traceback (most recent call last)",
      "Cell \u001b[1;32mIn[1], line 1\u001b[0m\n\u001b[1;32m----> 1\u001b[0m driver \u001b[38;5;241m=\u001b[39m webdriver\u001b[38;5;241m.\u001b[39mChrome()\n",
      "\u001b[1;31mNameError\u001b[0m: name 'webdriver' is not defined"
     ]
    }
   ],
   "source": [
    "driver = webdriver.Chrome()"
   ]
  },
  {
   "cell_type": "code",
   "execution_count": null,
   "id": "7d234294",
   "metadata": {},
   "outputs": [],
   "source": [
    "#opening the google images page on automated chrome browser\n",
    "\n",
    "driver.get(\"https://images.google.com/\")"
   ]
  },
  {
   "cell_type": "code",
   "execution_count": null,
   "id": "3ed96142",
   "metadata": {},
   "outputs": [],
   "source": [
    "#accepting user input as required in the question\n",
    "\n",
    "user_input = driver.find_element(By.XPATH,\"/html/body/div[1]/div[3]/form/div[1]/div[1]/div[1]/div/div[2]/textarea\")\n",
    "user_input.send_keys('fruits')"
   ]
  },
  {
   "cell_type": "code",
   "execution_count": null,
   "id": "fc967b9b",
   "metadata": {},
   "outputs": [],
   "source": [
    "#clicking the search icon\n",
    "search = driver.find_element(By.XPATH,\"/html/body/div[1]/div[3]/form/div[1]/div[1]/div[1]/button/div\")\n",
    "search.click()"
   ]
  },
  {
   "cell_type": "code",
   "execution_count": null,
   "id": "b5ddbde0",
   "metadata": {},
   "outputs": [],
   "source": [
    "#scraping fruit images\n",
    "fruit_img = []\n",
    "counter = 0\n",
    "fruitimg_tags = driver.find_elements(By.XPATH,'//img[@class=\"YQ4gaf\"]')\n",
    "for i in fruitimg_tags:\n",
    "    fruit_img.append(i.get_attribute('src'))\n",
    "    counter += 1\n",
    "    if counter == 10:\n",
    "        break\n",
    "fruit_img"
   ]
  },
  {
   "cell_type": "code",
   "execution_count": null,
   "id": "3a71bc29",
   "metadata": {},
   "outputs": [],
   "source": [
    "driver = webdriver.Chrome()\n",
    "driver.get(\"https://images.google.com/\")"
   ]
  },
  {
   "cell_type": "code",
   "execution_count": null,
   "id": "66983afd",
   "metadata": {},
   "outputs": [],
   "source": [
    "user_input = driver.find_element(By.XPATH,\"/html/body/div[1]/div[3]/form/div[1]/div[1]/div[1]/div/div[2]/textarea\")\n",
    "user_input.send_keys('cars')"
   ]
  },
  {
   "cell_type": "code",
   "execution_count": null,
   "id": "4cd051bb",
   "metadata": {},
   "outputs": [],
   "source": [
    "#clicking the search icon\n",
    "search = driver.find_element(By.XPATH,\"/html/body/div[1]/div[3]/form/div[1]/div[1]/div[1]/button/div\")\n",
    "search.click()"
   ]
  },
  {
   "cell_type": "code",
   "execution_count": null,
   "id": "82d22030",
   "metadata": {},
   "outputs": [],
   "source": [
    "#scraping car images\n",
    "car_images = []\n",
    "counter = 0\n",
    "carimages_tags = driver.find_elements(By.XPATH,'//img[@class=\"YQ4gaf\"]')\n",
    "for i in carimages_tags:\n",
    "    car_images.append(i.get_attribute('src'))\n",
    "    counter += 1\n",
    "    if counter == 10:\n",
    "        break\n",
    "car_images"
   ]
  },
  {
   "cell_type": "code",
   "execution_count": null,
   "id": "6afeb04b",
   "metadata": {},
   "outputs": [],
   "source": [
    "driver = webdriver.Chrome()\n",
    "driver.get(\"https://images.google.com/\")"
   ]
  },
  {
   "cell_type": "code",
   "execution_count": null,
   "id": "97106f71",
   "metadata": {},
   "outputs": [],
   "source": [
    "#accepting user input as required in the question\n",
    "\n",
    "user_input = driver.find_element(By.XPATH,\"/html/body/div[1]/div[3]/form/div[1]/div[1]/div[1]/div/div[2]/textarea\")\n",
    "user_input.send_keys('Machine Learning')"
   ]
  },
  {
   "cell_type": "code",
   "execution_count": null,
   "id": "1dbd3e68",
   "metadata": {},
   "outputs": [],
   "source": [
    "#clicking the search icon\n",
    "search = driver.find_element(By.XPATH,\"/html/body/div[1]/div[3]/form/div[1]/div[1]/div[1]/button/div\")\n",
    "search.click()"
   ]
  },
  {
   "cell_type": "code",
   "execution_count": null,
   "id": "b2279834",
   "metadata": {},
   "outputs": [],
   "source": [
    "#scraping car images\n",
    "Machine_images = []\n",
    "counter = 0\n",
    "machine_tags = driver.find_elements(By.XPATH,'//img[@class=\"rg_i Q4LuWd\"]')\n",
    "for i in machine_tags:\n",
    "    Machine_images.append(i.get_attribute('src'))\n",
    "    counter += 1\n",
    "    if counter == 10:\n",
    "        break\n",
    "Machine_images"
   ]
  },
  {
   "cell_type": "code",
   "execution_count": null,
   "id": "a2e743da",
   "metadata": {},
   "outputs": [],
   "source": [
    "driver = webdriver.Chrome()\n",
    "driver.get(\"https://images.google.com/\")"
   ]
  },
  {
   "cell_type": "code",
   "execution_count": null,
   "id": "199e1059",
   "metadata": {},
   "outputs": [],
   "source": [
    "#accepting user input as required in the question\n",
    "\n",
    "user_input = driver.find_element(By.XPATH,\"/html/body/div[1]/div[3]/form/div[1]/div[1]/div[1]/div/div[2]/textarea\")\n",
    "user_input.send_keys('Guitar')"
   ]
  },
  {
   "cell_type": "code",
   "execution_count": null,
   "id": "e11b8237",
   "metadata": {},
   "outputs": [],
   "source": [
    "#clicking the search icon\n",
    "search = driver.find_element(By.XPATH,\"/html/body/div[1]/div[3]/form/div[1]/div[1]/div[1]/button/div\")\n",
    "search.click()"
   ]
  },
  {
   "cell_type": "code",
   "execution_count": null,
   "id": "dadb23eb",
   "metadata": {},
   "outputs": [],
   "source": [
    "#scraping Guitar images\n",
    "guitar_images = []\n",
    "counter = 0\n",
    "guitar_tags = driver.find_elements(By.XPATH,'//img[@class=\"YQ4gaf\"]')\n",
    "for i in guitar_tags:\n",
    "    guitar_images.append(i.get_attribute('src'))\n",
    "    counter += 1\n",
    "    if counter == 10:\n",
    "        break\n",
    "guitar_images"
   ]
  },
  {
   "cell_type": "code",
   "execution_count": null,
   "id": "de9ecd92",
   "metadata": {},
   "outputs": [],
   "source": [
    "driver = webdriver.Chrome()\n",
    "driver.get(\"https://images.google.com/\")"
   ]
  },
  {
   "cell_type": "code",
   "execution_count": null,
   "id": "9e9d4fa0",
   "metadata": {},
   "outputs": [],
   "source": [
    "#accepting user input as required in the question\n",
    "\n",
    "user_input = driver.find_element(By.XPATH,\"/html/body/div[1]/div[3]/form/div[1]/div[1]/div[1]/div/div[2]/textarea\")\n",
    "user_input.send_keys('Cakes')"
   ]
  },
  {
   "cell_type": "code",
   "execution_count": null,
   "id": "959f7b78",
   "metadata": {},
   "outputs": [],
   "source": [
    "#clicking the search icon\n",
    "search = driver.find_element(By.XPATH,\"/html/body/div[1]/div[3]/form/div[1]/div[1]/div[1]/button/div\")\n",
    "search.click()"
   ]
  },
  {
   "cell_type": "code",
   "execution_count": null,
   "id": "3170d9c0",
   "metadata": {},
   "outputs": [],
   "source": [
    "#scraping Cake images\n",
    "cake_images = []\n",
    "counter = 0\n",
    "cake_tags = driver.find_elements(By.XPATH,'//a[@class=\"x0Sesd pla-link\"]')\n",
    "for i in cake_tags:\n",
    "    cake_images.append(i.get_attribute('href'))\n",
    "    counter += 1\n",
    "    if counter == 10:\n",
    "        break\n",
    "cake_images"
   ]
  },
  {
   "cell_type": "code",
   "execution_count": null,
   "id": "3034ee88",
   "metadata": {},
   "outputs": [],
   "source": [
    "df = pd.DataFrame({'Fruit Images':fruit_img,'Car Images':car_images,'Machine Images':Machine_images,'Guitar Images':guitar_images,'Cake Images':cake_images})\n",
    "df"
   ]
  },
  {
   "cell_type": "markdown",
   "id": "e3bf66d2",
   "metadata": {},
   "source": [
    "4. Write a python program to search for a smartphone(e.g.: Oneplus Nord, pixel 4A, etc.) on www.flipkart.com\n",
    "and scrape following details for all the search results displayed on 1st page. Details to be scraped: “Brand \n",
    "Name”, “Smartphone name”, “Colour”, “RAM”, “Storage(ROM)”, “Primary Camera”, \n",
    "“Secondary Camera”, “Display Size”, “Battery Capacity”, “Price”, “Product URL”. Incase if any of the \n",
    "details is missing then replace it by “- “. Save your results in a dataframe and CSV. "
   ]
  },
  {
   "cell_type": "code",
   "execution_count": null,
   "id": "75739432",
   "metadata": {},
   "outputs": [],
   "source": [
    "#opening the flipkart page on automated chrome browser\n",
    "\n",
    "driver.get(\"https://www.flipkart.com/\")"
   ]
  },
  {
   "cell_type": "code",
   "execution_count": null,
   "id": "42ebb548",
   "metadata": {},
   "outputs": [],
   "source": [
    "#accepting user input as required in the question\n",
    "\n",
    "user_input = driver.find_element(By.XPATH,\"/html/body/div[1]/div/div[1]/div/div/div/div/div[1]/div/div[1]/div/div[1]/div[1]/header/div[1]/div[2]/form/div/div/input\")\n",
    "user_input.send_keys('Oneplus Nord')"
   ]
  },
  {
   "cell_type": "code",
   "execution_count": null,
   "id": "7e53463d",
   "metadata": {},
   "outputs": [],
   "source": [
    "#clicking the search icon\n",
    "search = driver.find_element(By.XPATH,\"/html/body/div[1]/div/div[1]/div/div/div/div/div[1]/div/div[1]/div/div[1]/div[1]/header/div[1]/div[2]/form/div/button\")\n",
    "search.click()"
   ]
  },
  {
   "cell_type": "code",
   "execution_count": null,
   "id": "3af5f0d2",
   "metadata": {},
   "outputs": [],
   "source": [
    "#scraping brand name\n",
    "brand_names = []\n",
    "\n",
    "brand_tags = driver.find_elements(By.XPATH,'//div[@class=\"_4rR01T\"]')\n",
    "for i in brand_tags:\n",
    "    brandname = i.text\n",
    "    if not brandname:  # If brandname is empty, replace with a hyphen\n",
    "        brandname = '-'\n",
    "    brand_names.append(brandname)\n",
    "   \n",
    "        \n",
    "len(brand_names)"
   ]
  },
  {
   "cell_type": "code",
   "execution_count": null,
   "id": "2a3d833f",
   "metadata": {},
   "outputs": [],
   "source": [
    "#scraping RAM\n",
    "ram = []\n",
    "\n",
    "ram_tags = driver.find_elements(By.XPATH,'//ul[@class=\"_1xgFaf\"]/li[1]')\n",
    "for i in ram_tags:\n",
    "    ramname = i.text\n",
    "    if not ramname:  # If brandname is empty, replace with a hyphen\n",
    "        ramname = '-'\n",
    "    ram.append(ramname)\n",
    "   \n",
    "        \n",
    "len(ram)"
   ]
  },
  {
   "cell_type": "code",
   "execution_count": null,
   "id": "9167f8ac",
   "metadata": {},
   "outputs": [],
   "source": [
    "#scraping Display\n",
    "display = []\n",
    "\n",
    "display_tags = driver.find_elements(By.XPATH,'//ul[@class=\"_1xgFaf\"]/li[2]')\n",
    "for i in display_tags:\n",
    "    displayname = i.text\n",
    "    if not displayname:  # If brandname is empty, replace with a hyphen\n",
    "        displayname = '-'\n",
    "    display.append(displayname)\n",
    "   \n",
    "        \n",
    "display"
   ]
  },
  {
   "cell_type": "code",
   "execution_count": null,
   "id": "9ba6f432",
   "metadata": {},
   "outputs": [],
   "source": [
    "#scraping Camera\n",
    "camera = []\n",
    "\n",
    "camera_tags = driver.find_elements(By.XPATH,'//ul[@class=\"_1xgFaf\"]/li[3]')\n",
    "for i in camera_tags:\n",
    "    cameraname = i.text\n",
    "    if not cameraname:  # If brandname is empty, replace with a hyphen\n",
    "        cameraname = '-'\n",
    "    camera.append(cameraname)\n",
    "   \n",
    "        \n",
    "camera"
   ]
  },
  {
   "cell_type": "code",
   "execution_count": null,
   "id": "48a1ddf7",
   "metadata": {},
   "outputs": [],
   "source": [
    "#scraping battery capacity\n",
    "battery = []\n",
    "\n",
    "battery_tags = driver.find_elements(By.XPATH,'//ul[@class=\"_1xgFaf\"]/li[4]')\n",
    "for i in battery_tags:\n",
    "    batteryname = i.text\n",
    "    if not batteryname:  # If brandname is empty, replace with a hyphen\n",
    "        batteryname = '-'\n",
    "    battery.append(batteryname)\n",
    "   \n",
    "        \n",
    "battery"
   ]
  },
  {
   "cell_type": "code",
   "execution_count": null,
   "id": "dc0253a2",
   "metadata": {},
   "outputs": [],
   "source": [
    "price = []\n",
    "\n",
    "price_tags = driver.find_elements(By.XPATH,'//div[@class=\"_30jeq3 _1_WHN1\"]')\n",
    "for i in price_tags:\n",
    "    pricename = i.text\n",
    "    if not pricename:  # If brandname is empty, replace with a hyphen\n",
    "        pricename = '-'\n",
    "    price.append(pricename)\n",
    "   \n",
    "        \n",
    "price"
   ]
  },
  {
   "cell_type": "code",
   "execution_count": null,
   "id": "2dd4beb8",
   "metadata": {},
   "outputs": [],
   "source": [
    "#scraping product url\n",
    "product_url = []\n",
    "counter = 0\n",
    "producturl_tags = driver.find_elements(By.XPATH,'//img[@class=\"_396cs4\"]')\n",
    "for i in producturl_tags:\n",
    "    product_url.append(i.get_attribute('src'))\n",
    "    counter += 1\n",
    "    if counter == 24:\n",
    "        break\n",
    "product_url"
   ]
  },
  {
   "cell_type": "code",
   "execution_count": null,
   "id": "c2de89c4",
   "metadata": {},
   "outputs": [],
   "source": [
    "df = pd.DataFrame({'Brand_Names/Colour':brand_names,'RAM/ROM':ram,'Display':display, 'Primary/Secondary Camera':camera, 'Battery Capacity':battery,'Price':price, 'Product URL':product_url})\n",
    "df"
   ]
  },
  {
   "cell_type": "code",
   "execution_count": null,
   "id": "bc5194a1",
   "metadata": {},
   "outputs": [],
   "source": [
    "flipkart_filepath = \"flipkartdata.csv\"\n",
    "\n",
    "# Convert DataFrame to CSV\n",
    "df.to_csv(flipkart_filepath, index=False)"
   ]
  },
  {
   "cell_type": "markdown",
   "id": "88e54d8d",
   "metadata": {},
   "source": [
    "5)Write a program to scrap geospatial coordinates (latitude, longitude) of a city searched on google maps. "
   ]
  },
  {
   "cell_type": "code",
   "execution_count": null,
   "id": "9670e012",
   "metadata": {},
   "outputs": [],
   "source": [
    "driver = webdriver.Chrome()"
   ]
  },
  {
   "cell_type": "code",
   "execution_count": null,
   "id": "93d1308e",
   "metadata": {},
   "outputs": [],
   "source": [
    "#opening the google page on automated chrome browser\n",
    "\n",
    "driver.get(\"https://www.google.com/maps\")"
   ]
  },
  {
   "cell_type": "code",
   "execution_count": null,
   "id": "5f11d4ba",
   "metadata": {},
   "outputs": [],
   "source": [
    "#accepting user input as required in the question\n",
    "\n",
    "user_input = driver.find_element(By.XPATH,\"/html/body/div[1]/div[3]/div[8]/div[3]/div[1]/div[1]/div/div[2]/form/input\")\n",
    "user_input.send_keys('London')"
   ]
  },
  {
   "cell_type": "code",
   "execution_count": null,
   "id": "84b78b45",
   "metadata": {},
   "outputs": [],
   "source": [
    "#clicking the search icon\n",
    "search = driver.find_element(By.XPATH,\"/html/body/div[1]/div[3]/div[8]/div[3]/div[1]/div[1]/div/div[2]/div[1]\")\n",
    "search.click()"
   ]
  },
  {
   "cell_type": "code",
   "execution_count": null,
   "id": "e8f5682b",
   "metadata": {},
   "outputs": [],
   "source": [
    "url = driver.current_url\n",
    "coordinates = url.split('@')[1].split(',')[0:2]\n",
    "latitude = coordinates[0]\n",
    "longitude = coordinates[1]\n",
    "\n",
    "print(latitude,longitude)"
   ]
  },
  {
   "cell_type": "markdown",
   "id": "1acd578a",
   "metadata": {},
   "source": [
    "6) Write a program to scrap all the available details of best gaming laptops from digit.in. "
   ]
  },
  {
   "cell_type": "code",
   "execution_count": null,
   "id": "015ffdb0",
   "metadata": {},
   "outputs": [],
   "source": [
    "driver = webdriver.Chrome()"
   ]
  },
  {
   "cell_type": "code",
   "execution_count": null,
   "id": "96095f1b",
   "metadata": {},
   "outputs": [],
   "source": [
    "#accepting user input as required in the question\n",
    "\n",
    "user_input = driver.find_element(By.XPATH,\"/html/body/div[1]/header/div/div[1]/div/div/div[2]/form/input[1]\")\n",
    "user_input.send_keys('Gaming Laptops')"
   ]
  },
  {
   "cell_type": "code",
   "execution_count": null,
   "id": "aa0f5adf",
   "metadata": {},
   "outputs": [],
   "source": [
    "#accepting user input as required in the question\n",
    "\n",
    "user_input = driver.find_element(By.XPATH,\"/html/body/div[1]/header/div/div[1]/div/div/div[2]/form/input[1]\")\n",
    "user_input.send_keys('Gaming Laptops')"
   ]
  },
  {
   "cell_type": "code",
   "execution_count": null,
   "id": "17cf2621",
   "metadata": {},
   "outputs": [],
   "source": [
    "#clicking the search icon\n",
    "search = driver.find_element(By.XPATH,\"/html/body/div[1]/header/div/div[1]/div/div/div[2]/form/button\")\n",
    "search.click()"
   ]
  },
  {
   "cell_type": "code",
   "execution_count": null,
   "id": "72e3aad9",
   "metadata": {},
   "outputs": [],
   "source": [
    "#scraping brand name\n",
    "brand_names = []\n",
    "\n",
    "brand_tags = driver.find_elements(By.XPATH,'//h3[@class=\" text-clamp text-clamp-2\"]')\n",
    "for i in brand_tags:\n",
    "    brandname = i.text\n",
    "    if not brandname:  # If brandname is empty, replace with a hyphen\n",
    "        brandname = '-'\n",
    "    brand_names.append(brandname)\n",
    "   \n",
    "        \n",
    "brand_names"
   ]
  },
  {
   "cell_type": "code",
   "execution_count": null,
   "id": "7b6b7ccf",
   "metadata": {},
   "outputs": [],
   "source": [
    "#scraping price\n",
    "price = []\n",
    "\n",
    "price_tags = driver.find_elements(By.XPATH,'//span[@class=\"price\"]')\n",
    "for i in price_tags:\n",
    "    pricename = i.text\n",
    "    if not pricename:  # If pricename is empty, replace with a hyphen\n",
    "        pricename = '-'\n",
    "    price.append(pricename)\n",
    "   \n",
    "        \n",
    "price"
   ]
  },
  {
   "cell_type": "code",
   "execution_count": null,
   "id": "b9506956",
   "metadata": {},
   "outputs": [],
   "source": [
    "#scraping ratings\n",
    "ratings = []\n",
    "\n",
    "ratings_tags = driver.find_elements(By.XPATH,'//div[@class=\"rh_woo_star\"]')\n",
    "for i in ratings_tags:\n",
    "    ratingname = i.text\n",
    "    if not ratingname:  # If brandname is empty, replace with a hyphen\n",
    "        ratingname = '-'\n",
    "    ratings.append(ratingname)\n",
    "   \n",
    "        \n",
    "ratings"
   ]
  },
  {
   "cell_type": "code",
   "execution_count": null,
   "id": "d3c99d12",
   "metadata": {},
   "outputs": [],
   "source": [
    "df = pd.DataFrame({'Brand_Names':brand_names,'Ratings':ratings,'Price':price})\n",
    "df"
   ]
  },
  {
   "cell_type": "markdown",
   "id": "5e29795c",
   "metadata": {},
   "source": [
    "9. Write a python program to scrape a data for all available Hostels from https://www.hostelworld.com/ in \n",
    "“London” location. You have to scrape hostel name, distance from city centre, ratings, total reviews, overall \n",
    "reviews, privates from price, dorms from price, facilities and property description. "
   ]
  },
  {
   "cell_type": "code",
   "execution_count": null,
   "id": "df8560ec",
   "metadata": {},
   "outputs": [],
   "source": [
    "driver = webdriver.Chrome()"
   ]
  },
  {
   "cell_type": "code",
   "execution_count": null,
   "id": "2707f6c5",
   "metadata": {},
   "outputs": [],
   "source": [
    "#opening the hostelworld page on automated chrome browser\n",
    "\n",
    "driver.get(\"https://www.hostelworld.com/\")"
   ]
  },
  {
   "cell_type": "code",
   "execution_count": null,
   "id": "3c8e7ae2",
   "metadata": {},
   "outputs": [],
   "source": [
    "#accepting user input as required in the question\n",
    "\n",
    "user_input = driver.find_element(By.XPATH,\"/html/body/div[3]/div/div/div[2]/div[2]/div[2]/div/div/div/div[1]/div/div/div[2]/input\")\n",
    "user_input.send_keys('London, England')"
   ]
  },
  {
   "cell_type": "code",
   "execution_count": null,
   "id": "59e32b16",
   "metadata": {},
   "outputs": [],
   "source": [
    "#clicking the input drop down\n",
    "search = driver.find_element(By.XPATH,\"/html/body/div[3]/div/div/div[2]/div[2]/div[2]/div/div/div/div[1]/div[2]/div/ul/li[2]/button/div[2]/div[1]\")\n",
    "search.click()"
   ]
  },
  {
   "cell_type": "code",
   "execution_count": null,
   "id": "bb144b9d",
   "metadata": {},
   "outputs": [],
   "source": [
    "#clicking the search icon\n",
    "search = driver.find_element(By.XPATH,\"/html/body/div[3]/div/div/div[2]/div[2]/div[2]/div/div/div/div[5]/button[2]\")\n",
    "search.click()"
   ]
  },
  {
   "cell_type": "code",
   "execution_count": null,
   "id": "73a4c586",
   "metadata": {},
   "outputs": [],
   "source": [
    "#scraping hotel name\n",
    "hotel_name = []\n",
    "\n",
    "hotelname_tags = driver.find_elements(By.XPATH,'//div[@class=\"property-name\"]')\n",
    "for i in hotelname_tags:\n",
    "    hotelname = i.text\n",
    "    if not hotelname:  # If hotelname is empty, replace with a hyphen\n",
    "        hotelname = '-'\n",
    "    hotel_name.append(hotelname)\n",
    "   \n",
    "        \n",
    "hotel_name"
   ]
  },
  {
   "cell_type": "code",
   "execution_count": null,
   "id": "e2b72b8a",
   "metadata": {},
   "outputs": [],
   "source": [
    "#scraping distance\n",
    "distance = []\n",
    "\n",
    "distance_tags = driver.find_elements(By.XPATH,'//span[@class=\"distance-description\"]')\n",
    "for i in distance_tags:\n",
    "    distancename = i.text\n",
    "    if not distancename:  # If brandname is empty, replace with a hyphen\n",
    "        distancename = '-'\n",
    "    distance.append(distancename)\n",
    "   \n",
    "        \n",
    "distance"
   ]
  },
  {
   "cell_type": "code",
   "execution_count": null,
   "id": "8704a947",
   "metadata": {},
   "outputs": [],
   "source": [
    "#scraping ratings\n",
    "ratings = []\n",
    "\n",
    "ratings_tags = driver.find_elements(By.XPATH,'//span[@class=\"number\"]')\n",
    "for i in ratings_tags:\n",
    "    ratingname = i.text\n",
    "    if not ratingname:  # If brandname is empty, replace with a hyphen\n",
    "        ratingname = '-'\n",
    "    ratings.append(ratingname)\n",
    "   \n",
    "        \n",
    "ratings"
   ]
  },
  {
   "cell_type": "code",
   "execution_count": null,
   "id": "1ea54cce",
   "metadata": {},
   "outputs": [],
   "source": [
    "#scraping price\n",
    "price = []\n",
    "\n",
    "price_tags = driver.find_elements(By.XPATH,'//strong[@class=\"current\"]')\n",
    "for i in price_tags:\n",
    "    pricename = i.text\n",
    "    if not pricename:  # If brandname is empty, replace with a hyphen\n",
    "        pricename = '-'\n",
    "    price.append(pricename)\n",
    "   \n",
    "        \n",
    "price"
   ]
  },
  {
   "cell_type": "code",
   "execution_count": null,
   "id": "7aa109ad",
   "metadata": {},
   "outputs": [],
   "source": [
    "#scraping product url\n",
    "brand_url = []\n",
    "\n",
    "brandurl_tags = driver.find_elements(By.XPATH,'//div[@class=\"carousel-list\"]/img')\n",
    "for i in brandurl_tags:\n",
    "    brand_url.append(i.get_attribute('src'))        \n",
    "        \n",
    "brand_url"
   ]
  },
  {
   "cell_type": "code",
   "execution_count": null,
   "id": "32dc4a85",
   "metadata": {},
   "outputs": [],
   "source": [
    "product_descr = []\n",
    "for i in brand_url:\n",
    "    driver.get(i)\n",
    "   \n",
    "    product = driver.find_element(By.XPATH,'//div[@class=\"content collapse-content\"]')\n",
    "    product_descr.append(product.text)\n",
    "        \n",
    "product_descr"
   ]
  },
  {
   "cell_type": "code",
   "execution_count": null,
   "id": "95fe9382",
   "metadata": {},
   "outputs": [],
   "source": [
    "df = pd.DataFrame({'Hotel Name':hotel_name,'Distance':distance,'Ratings':ratings, 'Price':price, 'Brand Url':brand_url,'Price':price, 'Product Description':product_descr})\n",
    "df"
   ]
  }
 ],
 "metadata": {
  "kernelspec": {
   "display_name": "Python 3 (ipykernel)",
   "language": "python",
   "name": "python3"
  },
  "language_info": {
   "codemirror_mode": {
    "name": "ipython",
    "version": 3
   },
   "file_extension": ".py",
   "mimetype": "text/x-python",
   "name": "python",
   "nbconvert_exporter": "python",
   "pygments_lexer": "ipython3",
   "version": "3.11.3"
  }
 },
 "nbformat": 4,
 "nbformat_minor": 5
}
